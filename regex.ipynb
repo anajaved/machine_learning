{
 "cells": [
  {
   "cell_type": "code",
   "execution_count": 45,
   "metadata": {},
   "outputs": [],
   "source": [
    "# Text Extraction with Regex \n",
    "import re\n",
    "\n",
    "# Emails and Phone Numbers\n",
    "chat1 = 'customer: you ask lot of questions 😠  1235678912, abc@xyz.com'\n",
    "chat2 = 'user: here it is: (123)-567-8912, DOG@gmail.com'\n",
    "chat3 = 'USER: yes, phone: 123-567-8912 email: HELLO_woRLD@xyz.com'\n",
    "\n",
    "# Order Numbers\n",
    "order1 ='user: Hello, I am having an issue with my order # 41200125584222889912'\n",
    "order2= 'user: I have a problem with my order number 0000412889912'\n",
    "order3 = 'customer: My order 41282 is having an issue, I was charged 300$ when online it says 280$'\n",
    "\n",
    "# Personal Information\n",
    "personal_text = '''\n",
    "Born\tAmelia Mary Earhart\n",
    "July 24, 1897\n",
    "Atchison, Kansas, U.S.\n",
    "Disappeared\tJuly 2, 1937 (aged 39)\n",
    "Pacific Ocean, en route to Howland Island from Lae, New Guinea\n",
    "Status\tDeclared dead in absentia[1]\n",
    "January 5, 1939\n",
    "Occupations\t\n",
    "Aviatorauthor\n",
    "Known for\tMany early aviation records, including first woman to fly solo across the Atlantic Ocean\n",
    "Spouse\tGeorge P. Putnam ​(m. 1931)​\n",
    "Awards\t\n",
    "Distinguished Flying Cross\n",
    "Légion d'honneur\n",
    "National Aviation Hall of Fame\n",
    "National Women's Hall of Fame\n",
    "Website\twww.ameliaearhart.com Edit this at Wikidata\n",
    "'''"
   ]
  },
  {
   "cell_type": "code",
   "execution_count": 46,
   "metadata": {},
   "outputs": [
    {
     "name": "stdout",
     "output_type": "stream",
     "text": [
      "['1235678912']\n",
      "['(123)-567-8912']\n",
      "['123-567-8912']\n"
     ]
    }
   ],
   "source": [
    "# Phone Numbers Regex Pattern \n",
    "pattern = r\"\\d{10}|\\(\\d{3}\\)\\-\\d{3}\\-\\d{4}|\\d{3}\\-\\d{3}\\-\\d{4}\"\n",
    "\n",
    "print(re.findall(pattern, chat1))\n",
    "print(re.findall(pattern, chat2))\n",
    "print(re.findall(pattern, chat3))"
   ]
  },
  {
   "cell_type": "code",
   "execution_count": 47,
   "metadata": {},
   "outputs": [
    {
     "name": "stdout",
     "output_type": "stream",
     "text": [
      "['abc@xyz.com']\n",
      "['DOG@gmail.com']\n",
      "['HELLO_woRLD@xyz.com']\n"
     ]
    }
   ],
   "source": [
    "# Email Regex Pattern\n",
    "pattern2 = r\"[a-z0-9A-Z_]*@[a-z0-9A-Z_]*\\.com\"\n",
    "\n",
    "print(re.findall(pattern2, chat1))\n",
    "print(re.findall(pattern2, chat2))\n",
    "print(re.findall(pattern2, chat3))"
   ]
  },
  {
   "cell_type": "code",
   "execution_count": 70,
   "metadata": {},
   "outputs": [
    {
     "name": "stdout",
     "output_type": "stream",
     "text": [
      "Aged: 39\n",
      "Name: Amelia Mary Earhart\n",
      "Birth Date: July 24, 1897\n",
      "Birth Place: Atchison, Kansas, U.S.\n"
     ]
    }
   ],
   "source": [
    "# Order Number Regex Pattern\n",
    "print(\"Aged:\", re.findall(r\"aged (\\d+)\", personal_text)[0])\n",
    "print(\"Name:\", re.findall(r\"Born(.*)\\n\", personal_text)[0].strip())\n",
    "print(\"Birth Date:\", re.findall(r\"Born.*\\n(.*)\", personal_text)[0].strip())\n",
    "print(\"Birth Place:\", re.findall(r\"Born.*\\n.*\\n(.*)\", personal_text)[0])\n"
   ]
  },
  {
   "cell_type": "code",
   "execution_count": null,
   "metadata": {},
   "outputs": [],
   "source": []
  }
 ],
 "metadata": {
  "kernelspec": {
   "display_name": "Python 3",
   "language": "python",
   "name": "python3"
  },
  "language_info": {
   "codemirror_mode": {
    "name": "ipython",
    "version": 3
   },
   "file_extension": ".py",
   "mimetype": "text/x-python",
   "name": "python",
   "nbconvert_exporter": "python",
   "pygments_lexer": "ipython3",
   "version": "3.12.1"
  }
 },
 "nbformat": 4,
 "nbformat_minor": 2
}
